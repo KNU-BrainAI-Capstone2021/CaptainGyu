{
 "metadata": {
  "language_info": {
   "codemirror_mode": {
    "name": "ipython",
    "version": 3
   },
   "file_extension": ".py",
   "mimetype": "text/x-python",
   "name": "python",
   "nbconvert_exporter": "python",
   "pygments_lexer": "ipython3",
   "version": "3.8.8-final"
  },
  "orig_nbformat": 2,
  "kernelspec": {
   "name": "python388jvsc74a57bd0012cd2866f3402d1379f784d41cfc922dd07559f496dbd8d86ed0d3672ff3ab5",
   "display_name": "Python 3.8.8 64-bit ('Torch': conda)"
  }
 },
 "nbformat": 4,
 "nbformat_minor": 2,
 "cells": [
  {
   "cell_type": "code",
   "execution_count": 1,
   "metadata": {},
   "outputs": [],
   "source": [
    "import torch\n",
    "from torch import nn\n",
    "from torch.utils.data import DataLoader\n",
    "from torchvision import datasets\n",
    "from torchvision.transforms import ToTensor, Lambda, Compose\n",
    "import matplotlib.pyplot as plt"
   ]
  },
  {
   "cell_type": "code",
   "execution_count": 4,
   "metadata": {},
   "outputs": [
    {
     "output_type": "stream",
     "name": "stdout",
     "text": [
      "Downloading http://fashion-mnist.s3-website.eu-central-1.amazonaws.com/train-images-idx3-ubyte.gz to data\\FashionMNIST\\raw\\train-images-idx3-ubyte.gz\n",
      "26422272it [00:55, 479283.26it/s]                              \n",
      "Extracting data\\FashionMNIST\\raw\\train-images-idx3-ubyte.gz to data\\FashionMNIST\\raw\n",
      "Downloading http://fashion-mnist.s3-website.eu-central-1.amazonaws.com/train-labels-idx1-ubyte.gz to data\\FashionMNIST\\raw\\train-labels-idx1-ubyte.gz\n",
      "29696it [00:00, 99355.90it/s]                           \n",
      "Extracting data\\FashionMNIST\\raw\\train-labels-idx1-ubyte.gz to data\\FashionMNIST\\raw\n",
      "Downloading http://fashion-mnist.s3-website.eu-central-1.amazonaws.com/t10k-images-idx3-ubyte.gz to data\\FashionMNIST\\raw\\t10k-images-idx3-ubyte.gz\n",
      "4422656it [00:03, 1157493.04it/s]                             \n",
      "Extracting data\\FashionMNIST\\raw\\t10k-images-idx3-ubyte.gz to data\\FashionMNIST\\raw\n",
      "Downloading http://fashion-mnist.s3-website.eu-central-1.amazonaws.com/t10k-labels-idx1-ubyte.gz to data\\FashionMNIST\\raw\\t10k-labels-idx1-ubyte.gz\n",
      "6144it [00:00, 4129114.53it/s]          \n",
      "C:\\Users\\alscj\\anaconda3\\envs\\Torch\\lib\\site-packages\\torchvision\\datasets\\mnist.py:479: UserWarning: The given NumPy array is not writeable, and PyTorch does not support non-writeable tensors. This means you can write to the underlying (supposedly non-writeable) NumPy array using the tensor. You may want to copy the array to protect its data or make it writeable before converting it to a tensor. This type of warning will be suppressed for the rest of this program. (Triggered internally at  ..\\torch\\csrc\\utils\\tensor_numpy.cpp:143.)\n",
      "  return torch.from_numpy(parsed.astype(m[2], copy=False)).view(*s)\n",
      "Extracting data\\FashionMNIST\\raw\\t10k-labels-idx1-ubyte.gz to data\\FashionMNIST\\raw\n",
      "Processing...\n",
      "Done!\n"
     ]
    }
   ],
   "source": [
    "training_data = datasets.FashionMNIST(\n",
    "    root = 'data',\n",
    "    train=True, # True = train, False = test\n",
    "    download = True,\n",
    "    transform = ToTensor() # numpy 배열의 이미지를 torch 텐서로 바꾸어준다.\n",
    ")"
   ]
  },
  {
   "cell_type": "code",
   "execution_count": 6,
   "metadata": {},
   "outputs": [],
   "source": [
    "test_data = datasets.FashionMNIST(\n",
    "    root = 'data',\n",
    "    train=False, # True = train, False = test\n",
    "    download = True,\n",
    "    transform = ToTensor() # numpy 배열의 이미지를 torch 텐서로 바꾸어준다.\n",
    ")"
   ]
  },
  {
   "cell_type": "code",
   "execution_count": 8,
   "metadata": {},
   "outputs": [
    {
     "output_type": "stream",
     "name": "stdout",
     "text": [
      "Shape of X [N, C, H, W]:  torch.Size([64, 1, 28, 28])\nShape of y: torch.Size([64]) torch.int64\n"
     ]
    }
   ],
   "source": [
    "batch_size = 64 #64개의 데이터를 하나의 step으로 보낸다. \n",
    "# DataLoader = Dataset으로 데이터를 불러올경우 검색을 통해 features와 label을 한번만 들고 오는 것이다 이에 sample을 minibatches를 통해 통과시키고 model의 오버피팅을 줄이기 위해 매 epoch에 data를 reshuffle하고 multiprocessing을 사용하기 위해서는 DataLoader를 사용하여야 한다.\n",
    "train_dataloader = DataLoader(training_data, batch_size = batch_size)\n",
    "test_dataloader = DataLoader(test_data, batch_size = batch_size)\n",
    "\n",
    "for X, y in test_dataloader:\n",
    "    print(\"Shape of X [N, C, H, W]: \", X.shape)\n",
    "    print(\"Shape of y:\", y.shape, y.dtype)\n",
    "    break"
   ]
  },
  {
   "cell_type": "code",
   "execution_count": 10,
   "metadata": {},
   "outputs": [
    {
     "output_type": "display_data",
     "data": {
      "text/plain": "<Figure size 576x576 with 9 Axes>",
      "image/svg+xml": "<?xml version=\"1.0\" encoding=\"utf-8\" standalone=\"no\"?>\r\n<!DOCTYPE svg PUBLIC \"-//W3C//DTD SVG 1.1//EN\"\r\n  \"http://www.w3.org/Graphics/SVG/1.1/DTD/svg11.dtd\">\r\n<svg height=\"464.398125pt\" version=\"1.1\" viewBox=\"0 0 457.411765 464.398125\" width=\"457.411765pt\" xmlns=\"http://www.w3.org/2000/svg\" xmlns:xlink=\"http://www.w3.org/1999/xlink\">\r\n <metadata>\r\n  <rdf:RDF xmlns:cc=\"http://creativecommons.org/ns#\" xmlns:dc=\"http://purl.org/dc/elements/1.1/\" xmlns:rdf=\"http://www.w3.org/1999/02/22-rdf-syntax-ns#\">\r\n   <cc:Work>\r\n    <dc:type rdf:resource=\"http://purl.org/dc/dcmitype/StillImage\"/>\r\n    <dc:date>2021-04-03T08:55:59.981725</dc:date>\r\n    <dc:format>image/svg+xml</dc:format>\r\n    <dc:creator>\r\n     <cc:Agent>\r\n      <dc:title>Matplotlib v3.4.0, https://matplotlib.org/</dc:title>\r\n     </cc:Agent>\r\n    </dc:creator>\r\n   </cc:Work>\r\n  </rdf:RDF>\r\n </metadata>\r\n <defs>\r\n  <style type=\"text/css\">*{stroke-linecap:butt;stroke-linejoin:round;}</style>\r\n </defs>\r\n <g id=\"figure_1\">\r\n  <g id=\"patch_1\">\r\n   <path d=\"M 0 464.398125 \r\nL 457.411765 464.398125 \r\nL 457.411765 0 \r\nL 0 0 \r\nz\r\n\" style=\"fill:none;\"/>\r\n  </g>\r\n  <g id=\"axes_1\">\r\n   <g clip-path=\"url(#pd7d5d947c8)\">\r\n    <image height=\"128\" id=\"image0d2160335c\" transform=\"scale(1 -1)translate(0 -128)\" width=\"128\" x=\"7.2\" xlink:href=\"data:image/png;base64,\r\niVBORw0KGgoAAAANSUhEUgAAAIAAAACACAYAAADDPmHLAAAFZElEQVR4nO2dO0tcXRSG13iJ8Tre0KDGGzEW2sTBS2UQQbwUFoEUNiIB7fwFkib5DTaCjdHSQkwV0CaQwkIEERUL0SDEu+I1ifrVe62FMwzkC9/3vk/3btYczxkezl7sfeYYEZEHIbCk/O0TIH8XCgAOBQCHAoBDAcChAOBQAHAoADgUABwKAA4FAIcCgEMBwKEA4FAAcCgAOBQAHAoADgUAhwKAQwHAoQDgUABwKAA4FAAcCgAOBQCHAoBDAcChAOBQAHAoADgUABwKAA4FAIcCgJOW7AdTUkJ3nj59amqys7MfzSIiqampZkwfKy3NnmYkEolbkwg3Nzdm7OLiIsgPD/Y9Wvq809PTTU1ubm6Qr6+vTY13bI3+rj2869BsbW3ZY8f9FPlfQwHAoQDgpOm5VESkrq4uyOXl5aZGz9PeXHZ+fh7kq6srU5PIHPzz509T8+vXr0eziMj9/X2QvT7l7u7OjOn5vKioyNRkZmYG+fLy0tToa/P6BO87ycvLi/v3f//+/WgWESksLAyy10vwDgAOBQCHAoBDAcCJxGIx073phmZ7e9t88Pb2Nsjegk5xcXGQs7KyTI1ueERECgoKguw1bzk5OUEuLS01NXoh5vv373GPIyJyfHwc5N3dXVOzv78f5IqKClOjGzNvscq7Nv33dVMsYptX3ZSK2O/bu37eAcChAOBQAHAi0WjU9AD19fVBbm1tNR8sKysLclVVlanR8+LJyYmpyc/PN2N67vIWeXSf4M3l6+vrQdYLUyIiTU1NZqy6ujrI3mKR7nlOT09Nzerqatya5uZmM6Y3zT58+GBqJicng+wt1mVkZAR5Z2fH1PAOAA4FAIcCgEMBwEl7/fq1GZyYmAjy3NycqdELGNFo1NToxaInT56YmoODAzOmn5w5PDw0NW1tbUHe3NyMexy9wCLiL44sLCwEeW9vz9RUVlYG2bt+fU5ew/v582cz1tLSEuRnz56ZGn0ttbW1piaR3VDeAcChAOBQAHAi4vzrWD1Xewsx+mmTrq4uUzM6Ohpkb1NDz1Midu725q6ampogj4+Pm5r+/v4gextW3tw5NTUV5J6eHlOjn67xNqP0ppr39NPS0pIZa2hoePRviYjEYrEgl5SUmJrnz58H2dvU4x0AHAoADgUAhwKA4zaBf4qRkREzNjAwYMb0Iou3yKN3DL1HrvXTRl+/fjU1r169MmPfvn0L8tu3b03Nly9fguw1gRsbG0H2rvXo6MiM6UUevaAmYncDvWZSH/vs7MzU8A4ADgUAhwKAQwHAiaSkpJgmUK88eat1Gu+3gYn89t1D7/T19vaamjdv3gTZO0f9CJq3q+jttDU2NgZ5fn7e1OhjeY9k6bFPnz6ZmtnZWTOmHx0bGhoyNR0dHUH2muCVlZUgv3//3tTwDgAOBQCHAoDzRxeC9LsHku0JEmFsbMyMvXz5Msh63hTx+4IfP34E2VtA0QtR3pNN7969C3Ky1//ixQszNjw8HOTu7m5Ts7y8HOTBwUFTwzsAOBQAHAoADgUAJ+kXRSZCsk1PMs3jx48f49Z4v3H0dvo6OzuD7D2S1t7eHmRvp0+ft/dCLg/9Oe8Fj9PT03GPMzMzE7eGdwBwKAA4FACcf/WJoP8KfX19QdbvCxARWVtbC/Li4mLc43o9wJ9cHEsE3gHAoQDgUABwKAA4bALB4R0AHAoADgUAhwKAQwHAoQDgUABwKAA4FAAcCgAOBQCHAoBDAcChAOBQAHAoADgUABwKAA4FAIcCgEMBwKEA4FAAcCgAOBQAHAoADgUAhwKAQwHAoQDgUABwKAA4FAAcCgAOBQCHAoBDAcChAOBQAHAoADj/AMC5aHAreg5QAAAAAElFTkSuQmCC\" y=\"-22.224007\"/>\r\n   </g>\r\n   <g id=\"text_1\">\r\n    <!-- Sneaker -->\r\n    <g transform=\"translate(46.757316 16.318125)scale(0.12 -0.12)\">\r\n     <defs>\r\n      <path d=\"M 3425 4513 \r\nL 3425 3897 \r\nQ 3066 4069 2747 4153 \r\nQ 2428 4238 2131 4238 \r\nQ 1616 4238 1336 4038 \r\nQ 1056 3838 1056 3469 \r\nQ 1056 3159 1242 3001 \r\nQ 1428 2844 1947 2747 \r\nL 2328 2669 \r\nQ 3034 2534 3370 2195 \r\nQ 3706 1856 3706 1288 \r\nQ 3706 609 3251 259 \r\nQ 2797 -91 1919 -91 \r\nQ 1588 -91 1214 -16 \r\nQ 841 59 441 206 \r\nL 441 856 \r\nQ 825 641 1194 531 \r\nQ 1563 422 1919 422 \r\nQ 2459 422 2753 634 \r\nQ 3047 847 3047 1241 \r\nQ 3047 1584 2836 1778 \r\nQ 2625 1972 2144 2069 \r\nL 1759 2144 \r\nQ 1053 2284 737 2584 \r\nQ 422 2884 422 3419 \r\nQ 422 4038 858 4394 \r\nQ 1294 4750 2059 4750 \r\nQ 2388 4750 2728 4690 \r\nQ 3069 4631 3425 4513 \r\nz\r\n\" id=\"DejaVuSans-53\" transform=\"scale(0.015625)\"/>\r\n      <path d=\"M 3513 2113 \r\nL 3513 0 \r\nL 2938 0 \r\nL 2938 2094 \r\nQ 2938 2591 2744 2837 \r\nQ 2550 3084 2163 3084 \r\nQ 1697 3084 1428 2787 \r\nQ 1159 2491 1159 1978 \r\nL 1159 0 \r\nL 581 0 \r\nL 581 3500 \r\nL 1159 3500 \r\nL 1159 2956 \r\nQ 1366 3272 1645 3428 \r\nQ 1925 3584 2291 3584 \r\nQ 2894 3584 3203 3211 \r\nQ 3513 2838 3513 2113 \r\nz\r\n\" id=\"DejaVuSans-6e\" transform=\"scale(0.015625)\"/>\r\n      <path d=\"M 3597 1894 \r\nL 3597 1613 \r\nL 953 1613 \r\nQ 991 1019 1311 708 \r\nQ 1631 397 2203 397 \r\nQ 2534 397 2845 478 \r\nQ 3156 559 3463 722 \r\nL 3463 178 \r\nQ 3153 47 2828 -22 \r\nQ 2503 -91 2169 -91 \r\nQ 1331 -91 842 396 \r\nQ 353 884 353 1716 \r\nQ 353 2575 817 3079 \r\nQ 1281 3584 2069 3584 \r\nQ 2775 3584 3186 3129 \r\nQ 3597 2675 3597 1894 \r\nz\r\nM 3022 2063 \r\nQ 3016 2534 2758 2815 \r\nQ 2500 3097 2075 3097 \r\nQ 1594 3097 1305 2825 \r\nQ 1016 2553 972 2059 \r\nL 3022 2063 \r\nz\r\n\" id=\"DejaVuSans-65\" transform=\"scale(0.015625)\"/>\r\n      <path d=\"M 2194 1759 \r\nQ 1497 1759 1228 1600 \r\nQ 959 1441 959 1056 \r\nQ 959 750 1161 570 \r\nQ 1363 391 1709 391 \r\nQ 2188 391 2477 730 \r\nQ 2766 1069 2766 1631 \r\nL 2766 1759 \r\nL 2194 1759 \r\nz\r\nM 3341 1997 \r\nL 3341 0 \r\nL 2766 0 \r\nL 2766 531 \r\nQ 2569 213 2275 61 \r\nQ 1981 -91 1556 -91 \r\nQ 1019 -91 701 211 \r\nQ 384 513 384 1019 \r\nQ 384 1609 779 1909 \r\nQ 1175 2209 1959 2209 \r\nL 2766 2209 \r\nL 2766 2266 \r\nQ 2766 2663 2505 2880 \r\nQ 2244 3097 1772 3097 \r\nQ 1472 3097 1187 3025 \r\nQ 903 2953 641 2809 \r\nL 641 3341 \r\nQ 956 3463 1253 3523 \r\nQ 1550 3584 1831 3584 \r\nQ 2591 3584 2966 3190 \r\nQ 3341 2797 3341 1997 \r\nz\r\n\" id=\"DejaVuSans-61\" transform=\"scale(0.015625)\"/>\r\n      <path d=\"M 581 4863 \r\nL 1159 4863 \r\nL 1159 1991 \r\nL 2875 3500 \r\nL 3609 3500 \r\nL 1753 1863 \r\nL 3688 0 \r\nL 2938 0 \r\nL 1159 1709 \r\nL 1159 0 \r\nL 581 0 \r\nL 581 4863 \r\nz\r\n\" id=\"DejaVuSans-6b\" transform=\"scale(0.015625)\"/>\r\n      <path d=\"M 2631 2963 \r\nQ 2534 3019 2420 3045 \r\nQ 2306 3072 2169 3072 \r\nQ 1681 3072 1420 2755 \r\nQ 1159 2438 1159 1844 \r\nL 1159 0 \r\nL 581 0 \r\nL 581 3500 \r\nL 1159 3500 \r\nL 1159 2956 \r\nQ 1341 3275 1631 3429 \r\nQ 1922 3584 2338 3584 \r\nQ 2397 3584 2469 3576 \r\nQ 2541 3569 2628 3553 \r\nL 2631 2963 \r\nz\r\n\" id=\"DejaVuSans-72\" transform=\"scale(0.015625)\"/>\r\n     </defs>\r\n     <use xlink:href=\"#DejaVuSans-53\"/>\r\n     <use x=\"63.476562\" xlink:href=\"#DejaVuSans-6e\"/>\r\n     <use x=\"126.855469\" xlink:href=\"#DejaVuSans-65\"/>\r\n     <use x=\"188.378906\" xlink:href=\"#DejaVuSans-61\"/>\r\n     <use x=\"249.658203\" xlink:href=\"#DejaVuSans-6b\"/>\r\n     <use x=\"303.943359\" xlink:href=\"#DejaVuSans-65\"/>\r\n     <use x=\"365.466797\" xlink:href=\"#DejaVuSans-72\"/>\r\n    </g>\r\n   </g>\r\n  </g>\r\n  <g id=\"axes_2\">\r\n   <g clip-path=\"url(#p080c7074f9)\">\r\n    <image height=\"128\" id=\"image9adf96287e\" transform=\"scale(1 -1)translate(0 -128)\" width=\"128\" x=\"164.752941\" xlink:href=\"data:image/png;base64,\r\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\" y=\"-22.224007\"/>\r\n   </g>\r\n   <g id=\"text_2\">\r\n    <!-- Bag -->\r\n    <g transform=\"translate(217.103382 16.318125)scale(0.12 -0.12)\">\r\n     <defs>\r\n      <path d=\"M 1259 2228 \r\nL 1259 519 \r\nL 2272 519 \r\nQ 2781 519 3026 730 \r\nQ 3272 941 3272 1375 \r\nQ 3272 1813 3026 2020 \r\nQ 2781 2228 2272 2228 \r\nL 1259 2228 \r\nz\r\nM 1259 4147 \r\nL 1259 2741 \r\nL 2194 2741 \r\nQ 2656 2741 2882 2914 \r\nQ 3109 3088 3109 3444 \r\nQ 3109 3797 2882 3972 \r\nQ 2656 4147 2194 4147 \r\nL 1259 4147 \r\nz\r\nM 628 4666 \r\nL 2241 4666 \r\nQ 2963 4666 3353 4366 \r\nQ 3744 4066 3744 3513 \r\nQ 3744 3084 3544 2831 \r\nQ 3344 2578 2956 2516 \r\nQ 3422 2416 3680 2098 \r\nQ 3938 1781 3938 1306 \r\nQ 3938 681 3513 340 \r\nQ 3088 0 2303 0 \r\nL 628 0 \r\nL 628 4666 \r\nz\r\n\" id=\"DejaVuSans-42\" transform=\"scale(0.015625)\"/>\r\n      <path d=\"M 2906 1791 \r\nQ 2906 2416 2648 2759 \r\nQ 2391 3103 1925 3103 \r\nQ 1463 3103 1205 2759 \r\nQ 947 2416 947 1791 \r\nQ 947 1169 1205 825 \r\nQ 1463 481 1925 481 \r\nQ 2391 481 2648 825 \r\nQ 2906 1169 2906 1791 \r\nz\r\nM 3481 434 \r\nQ 3481 -459 3084 -895 \r\nQ 2688 -1331 1869 -1331 \r\nQ 1566 -1331 1297 -1286 \r\nQ 1028 -1241 775 -1147 \r\nL 775 -588 \r\nQ 1028 -725 1275 -790 \r\nQ 1522 -856 1778 -856 \r\nQ 2344 -856 2625 -561 \r\nQ 2906 -266 2906 331 \r\nL 2906 616 \r\nQ 2728 306 2450 153 \r\nQ 2172 0 1784 0 \r\nQ 1141 0 747 490 \r\nQ 353 981 353 1791 \r\nQ 353 2603 747 3093 \r\nQ 1141 3584 1784 3584 \r\nQ 2172 3584 2450 3431 \r\nQ 2728 3278 2906 2969 \r\nL 2906 3500 \r\nL 3481 3500 \r\nL 3481 434 \r\nz\r\n\" id=\"DejaVuSans-67\" transform=\"scale(0.015625)\"/>\r\n     </defs>\r\n     <use xlink:href=\"#DejaVuSans-42\"/>\r\n     <use x=\"68.603516\" xlink:href=\"#DejaVuSans-61\"/>\r\n     <use x=\"129.882812\" xlink:href=\"#DejaVuSans-67\"/>\r\n    </g>\r\n   </g>\r\n  </g>\r\n  <g id=\"axes_3\">\r\n   <g clip-path=\"url(#p84271770cd)\">\r\n    <image height=\"128\" id=\"image6e2b2b7d8e\" transform=\"scale(1 -1)translate(0 -128)\" width=\"128\" x=\"322.305882\" xlink:href=\"data:image/png;base64,\r\niVBORw0KGgoAAAANSUhEUgAAAIAAAACACAYAAADDPmHLAAAGr0lEQVR4nO2dTUjVaxDGp+tHUVQofaBRCBmF9gFFQpiiEKVoFBQtCoWiIGjZIlAiBCkIN61qFxW0iDQCg6IgqU20CFIM06LQICwwUpMSo7t+5xmu5x66eeF5frsZ5njO+fvwvsPMvO+ZZ2a/TNDy11x/ADG3SADkSADkSADkSADkSADkSADkSADkSADkSADkSADkSADkSADkSADkSADkSADkSADkSADkSADkSADkSADkSADkSADkSADkSADkSADk5M71B2hqagLfjRs3Zn3dzp07E3vRokUQ09vbm9gfP36EmM2bN4Nv9erVif3+/XuI+fTpU2KvWLECYtrb2//x85iZnTt3Dnx/Eq0A5EgA5EgA5EgA5MyzDO4HyMnJAd/Pnz//9ZsdOnQIfEePHgXft2/fEjtK3pYvX57YpaWlEHPr1q3EjhLOBQsWgO/du3eJ/eHDB4gpKCiY9TPW1tYm9szMDMTU19eDL3q//wqtAORIAORIAORIAOTMy8nJgSQwkwTPJ4aZvObatWvgKykpAZ+v6vX09EDM8+fPE3vt2rUQc+/evcQ+ffo0xOTmYjH0/v37iR0lmMePH0/sS5cuQcz8+fMTu6KiAmIKCwvBV1lZCT5PNs8/QisAORIAORIAObnZ7h3ZEHXMog7Zjx8/EntkZARiVq1aldhLly6FmPHx8cSOuowtLS3g83t+1DH0e/6+ffsg5sqVK4ldXl4OMdnyu/5vWgHIkQDIkQDIkQDIyXokLJtiUVRQefLkCfh8YuiLPmZmbW1tiR0lWIcPH07sqPP25s0b8PniVFdXF8Rs3bo1sS9evAgxo6OjiR0VnaIOYSb4xDRKpjNBKwA5EgA5EgA5GeUAUSHEFz580cUM9/yXL19CTHFxMfi+f/+e2H5CyAynfS5fvgwxjx49Suxov33x4gX4/Of2TR0zzF2imJUrVyZ2VCx6+vQp+Hw+E+U3HR0diX3s2DGI8d8/QisAORIAORIAORIAOWESuHDhwsRubm6GGD+WXVVVBTG+ixclJRs2bACfLyBNTExAzOLFixP79u3bEHPnzp3E3rVrF8S8fv0afF+/fk3ssrIyiPEUFRWBz3c1ozOGY2Nj4PMJnv9/mOGzPHv2LMT4xNRPSJlpBaBHAiBHAiAnPBoW7acev0+tWbMGYnxTxe/bZmZ5eXngW79+fWJ/+fIFYvzxraip4/e8aAI5msr1U8i+8WSGRZ0zZ85AjM9vhoeHIaa1tRV8vtF29epViPH7u29OmeEE1v79+yFGKwA5EgA5EgA5EgA5uXv27AGnTzCiYoVPcLZt2wYxvhD09u1biInO5/vuX1TA8Z29hw8fQoxP8KKOZTSl44tcN2/ehBh/10E0ITUwMJDYvjBkhl1NMzxC5hNeM/xu0fv74lQ0Aq8VgBwJgBwJgBwJgJzcBw8egNMnYdu3b5/1D/X394PPJ5MbN26EmGhMzL8uGtvylb9o3MsnSlES5m/8NMObQqPvdv369cSOqpyDg4OJXVNTAzHRDaednZ2J/fnzZ4jZsmVLYkfdyPPnzyd2lHBqBSBHAiBHAiAnnAjy++nu3bsh5u7du4kdFYv8xYxRxy66hNJ3zaK92x+7iopMvqsYTdZEXTQ/bRPtr366Z+/evRDT19eX2Js2bYKYoaEh8Hl27NgBPl/Uip5/VBzzaAUgRwIgRwIgRwIgJ0wCnz17ltjRTdgNDQ2J7S9XNMOCTnR+Lrrg0Rd+Tp48CTF+BCsaG5uenk7sqBAVnbvzxZnu7m6I8UmYHyU3M1u3bl1iR/cc+ETVDJ93fn4+xBw5ciSxo2JZ9Ew8WgHIkQDIkQDIyegXQyL86HjU1PCFn+icf3R5pC9gREfTTpw4kdjRETP//nV1dRDz+PFj8PnCT5QD+UmiqKDk84RoLH3ZsmXg8/cKRJdM++928OBBiMkErQDkSADkSADkSADkZJ0Eek6dOgW+AwcOJHZ0Di/q9Plx6igJ8zd/+59xM8OuZnV1NcREyau/uGlychJifFEpOhvoO3TReHc0lu6fWzTOfeHCBfBlg1YAciQAciQAcn5bDpAJ0fSP/3lVM7yoMZrIWbJkSWJH08VTU1Oz/p1omtg3X169egUxjY2NiR0VefxkUfTLYnONVgByJAByJAByJABy/mgSKP5/aAUgRwIgRwIgRwIgRwIgRwIgRwIgRwIgRwIgRwIgRwIgRwIgRwIgRwIgRwIgRwIgRwIgRwIgRwIgRwIgRwIgRwIgRwIgRwIgRwIgRwIgRwIgRwIgRwIgRwIgRwIg52/xnvg8GxPLsgAAAABJRU5ErkJggg==\" y=\"-22.224007\"/>\r\n   </g>\r\n   <g id=\"text_3\">\r\n    <!-- Shirt -->\r\n    <g transform=\"translate(372.161636 16.318125)scale(0.12 -0.12)\">\r\n     <defs>\r\n      <path d=\"M 3513 2113 \r\nL 3513 0 \r\nL 2938 0 \r\nL 2938 2094 \r\nQ 2938 2591 2744 2837 \r\nQ 2550 3084 2163 3084 \r\nQ 1697 3084 1428 2787 \r\nQ 1159 2491 1159 1978 \r\nL 1159 0 \r\nL 581 0 \r\nL 581 4863 \r\nL 1159 4863 \r\nL 1159 2956 \r\nQ 1366 3272 1645 3428 \r\nQ 1925 3584 2291 3584 \r\nQ 2894 3584 3203 3211 \r\nQ 3513 2838 3513 2113 \r\nz\r\n\" id=\"DejaVuSans-68\" transform=\"scale(0.015625)\"/>\r\n      <path d=\"M 603 3500 \r\nL 1178 3500 \r\nL 1178 0 \r\nL 603 0 \r\nL 603 3500 \r\nz\r\nM 603 4863 \r\nL 1178 4863 \r\nL 1178 4134 \r\nL 603 4134 \r\nL 603 4863 \r\nz\r\n\" id=\"DejaVuSans-69\" transform=\"scale(0.015625)\"/>\r\n      <path d=\"M 1172 4494 \r\nL 1172 3500 \r\nL 2356 3500 \r\nL 2356 3053 \r\nL 1172 3053 \r\nL 1172 1153 \r\nQ 1172 725 1289 603 \r\nQ 1406 481 1766 481 \r\nL 2356 481 \r\nL 2356 0 \r\nL 1766 0 \r\nQ 1100 0 847 248 \r\nQ 594 497 594 1153 \r\nL 594 3053 \r\nL 172 3053 \r\nL 172 3500 \r\nL 594 3500 \r\nL 594 4494 \r\nL 1172 4494 \r\nz\r\n\" id=\"DejaVuSans-74\" transform=\"scale(0.015625)\"/>\r\n     </defs>\r\n     <use xlink:href=\"#DejaVuSans-53\"/>\r\n     <use x=\"63.476562\" xlink:href=\"#DejaVuSans-68\"/>\r\n     <use x=\"126.855469\" xlink:href=\"#DejaVuSans-69\"/>\r\n     <use x=\"154.638672\" xlink:href=\"#DejaVuSans-72\"/>\r\n     <use x=\"195.751953\" xlink:href=\"#DejaVuSans-74\"/>\r\n    </g>\r\n   </g>\r\n  </g>\r\n  <g id=\"axes_4\">\r\n   <g clip-path=\"url(#p552f94b934)\">\r\n    <image height=\"128\" id=\"imagea2eb647e7e\" transform=\"scale(1 -1)translate(0 -128)\" width=\"128\" x=\"7.2\" xlink:href=\"data:image/png;base64,\r\niVBORw0KGgoAAAANSUhEUgAAAIAAAACACAYAAADDPmHLAAAFJElEQVR4nO2duUp0QRCFe9wdHVdUFAVBFATBSMFgkvEpfABzIyMzczNfw4fwCQyNRBBREZxx35e4T5XYyM8/tz3ny6pp2isc6h6q69aUQgif4Q+wtrZm1lZWVqL44+PD7NnY2DBrlUolire2tsye9/f3KN7e3jZ7Hh8f3WctEi3NfgDRXCQAciQAciQAckrhj5jAvb09s1ar1aK4v7/f7CmVSmZtfX09ind2dsyeRqMRxdVq1ew5Pj72HrVQKAOQIwGQIwGQ09bsB/hXDAwMmLXLy8sofnt7SzpreHg4iq+ursyeHIo8KSgDkCMBkCMBkCMBkPOnTWBLS6xvz8x5nJycRLFXLOrs7IzihYUFs0eFIFF4JAByJABysvUAWKzp6uoye7Dwc3Nzk3Q2dg59ftr7MvQF+Dy5oAxAjgRAjgRAjgRATrYmcGxsLIo7OjrMHmzdfnp6SjobDR0WlEII4eXlJYr7+vqSzi4aygDkSADkSADkZOsBlpeXoxgvZ0II4fb2NopHR0eTzh4aGopi75MyXFtaWko6u2goA5AjAZAjAZAjAZCTrQnEb/9fX1/NHlwbHx9POntiYiKKsaAUQgh3d3dRnGowi4YyADkSADkSADkSADnZmsDp6ekoRlMWQgj39/dR7N0YemC71/Pzs9mD7WVYPcwFZQByJAByJABysvUAra2tUewVgrAt/Pz8POnsh4eHKPZuA7E4pI4gkSUSADkSADkSADnZmkAs/AwODpo9bW3xv3d0dJR0NppADzwbi065oAxAjgRAjgRATrYewCv8IFgIKpfLSWendARhIaperyedXTSUAciRAMiRAMiRAMjJ1gRiIcYb5IQmcGpqKunsxcXFKE6ZDJ46gKpoKAOQIwGQIwGQk60HwDk+ngfANfQN34HdPRcXF2YPzg1KKUwVEWUAciQAciQAciQAcrI1gZOTk1F8dnZm9uAtHt7gfQd+GuZNIsehk5oWLrJEAiBHAiBHAiAnWxM4MjISxfhTbx6pJhDnCOBkcG8N5xXkgjIAORIAORIAOVl4AK/IkvKeRrz2bu+GEG8DvZs+/DTNmw+AE8y9WUPNRhmAHAmAHAmAHAmAnCxM4MzMjFlL+X1fxDOBtVrNrKGh9M7GPd5P0s3Pz0fxwcHBj8/4v1EGIEcCIEcCICcLD+B90oUeoLu72+zByx+vWLS6umrWUj7zam9vj2L8DC2EEObm5qJYHkAUDgmAHAmAHAmAnCxMoDcE0pvgjaTcxlWrVbOG3/319vb+ak8OreLKAORIAORIAORk4QEqlYpZwwsafCd7e7zLIOwuDsFe7HjdxFgISilEFRFlAHIkAHIkAHIkAHKyMIFeyzXe7KEpC8G2jntGsdFomDU8y+sIwrNShlQVEWUAciQAciQAciQAcrIwgT09PWYtZTInDnvy2ra8ap1nFn/6+/i3vvt7RUMZgBwJgBwJgJwsPID3TsZ3t/edf0ohxnt3463hb/++97lY0VAGIEcCIEcCIEcCICcLE3h9fW3W0HR57V4pt3peIeg37WZem/rp6alZKxrKAORIAORIAORk4QH29/fN2ubmZhR7l0P4XvZ8ggcWh7xuI/w5Wc8DeL9iUjSUAciRAMiRAMiRAMgphRCK37vsgMUhr1hTr9ej2DNqXiEI13DOgLcHW9BDCKFcLpu1oqEMQI4EQI4EQE4WhSCP3d3dKJ6dnTV7Dg8Po9h7l3sXRNjJ43UN4RBI78IqB5QByJEAyJEAyJEAyPkC6jlzL5o4qlAAAAAASUVORK5CYII=\" y=\"-175.711066\"/>\r\n   </g>\r\n   <g id=\"text_4\">\r\n    <!-- Trouser -->\r\n    <g transform=\"translate(49.283879 169.805184)scale(0.12 -0.12)\">\r\n     <defs>\r\n      <path d=\"M -19 4666 \r\nL 3928 4666 \r\nL 3928 4134 \r\nL 2272 4134 \r\nL 2272 0 \r\nL 1638 0 \r\nL 1638 4134 \r\nL -19 4134 \r\nL -19 4666 \r\nz\r\n\" id=\"DejaVuSans-54\" transform=\"scale(0.015625)\"/>\r\n      <path d=\"M 1959 3097 \r\nQ 1497 3097 1228 2736 \r\nQ 959 2375 959 1747 \r\nQ 959 1119 1226 758 \r\nQ 1494 397 1959 397 \r\nQ 2419 397 2687 759 \r\nQ 2956 1122 2956 1747 \r\nQ 2956 2369 2687 2733 \r\nQ 2419 3097 1959 3097 \r\nz\r\nM 1959 3584 \r\nQ 2709 3584 3137 3096 \r\nQ 3566 2609 3566 1747 \r\nQ 3566 888 3137 398 \r\nQ 2709 -91 1959 -91 \r\nQ 1206 -91 779 398 \r\nQ 353 888 353 1747 \r\nQ 353 2609 779 3096 \r\nQ 1206 3584 1959 3584 \r\nz\r\n\" id=\"DejaVuSans-6f\" transform=\"scale(0.015625)\"/>\r\n      <path d=\"M 544 1381 \r\nL 544 3500 \r\nL 1119 3500 \r\nL 1119 1403 \r\nQ 1119 906 1312 657 \r\nQ 1506 409 1894 409 \r\nQ 2359 409 2629 706 \r\nQ 2900 1003 2900 1516 \r\nL 2900 3500 \r\nL 3475 3500 \r\nL 3475 0 \r\nL 2900 0 \r\nL 2900 538 \r\nQ 2691 219 2414 64 \r\nQ 2138 -91 1772 -91 \r\nQ 1169 -91 856 284 \r\nQ 544 659 544 1381 \r\nz\r\nM 1991 3584 \r\nL 1991 3584 \r\nz\r\n\" id=\"DejaVuSans-75\" transform=\"scale(0.015625)\"/>\r\n      <path d=\"M 2834 3397 \r\nL 2834 2853 \r\nQ 2591 2978 2328 3040 \r\nQ 2066 3103 1784 3103 \r\nQ 1356 3103 1142 2972 \r\nQ 928 2841 928 2578 \r\nQ 928 2378 1081 2264 \r\nQ 1234 2150 1697 2047 \r\nL 1894 2003 \r\nQ 2506 1872 2764 1633 \r\nQ 3022 1394 3022 966 \r\nQ 3022 478 2636 193 \r\nQ 2250 -91 1575 -91 \r\nQ 1294 -91 989 -36 \r\nQ 684 19 347 128 \r\nL 347 722 \r\nQ 666 556 975 473 \r\nQ 1284 391 1588 391 \r\nQ 1994 391 2212 530 \r\nQ 2431 669 2431 922 \r\nQ 2431 1156 2273 1281 \r\nQ 2116 1406 1581 1522 \r\nL 1381 1569 \r\nQ 847 1681 609 1914 \r\nQ 372 2147 372 2553 \r\nQ 372 3047 722 3315 \r\nQ 1072 3584 1716 3584 \r\nQ 2034 3584 2315 3537 \r\nQ 2597 3491 2834 3397 \r\nz\r\n\" id=\"DejaVuSans-73\" transform=\"scale(0.015625)\"/>\r\n     </defs>\r\n     <use xlink:href=\"#DejaVuSans-54\"/>\r\n     <use x=\"46.333984\" xlink:href=\"#DejaVuSans-72\"/>\r\n     <use x=\"85.197266\" xlink:href=\"#DejaVuSans-6f\"/>\r\n     <use x=\"146.378906\" xlink:href=\"#DejaVuSans-75\"/>\r\n     <use x=\"209.757812\" xlink:href=\"#DejaVuSans-73\"/>\r\n     <use x=\"261.857422\" xlink:href=\"#DejaVuSans-65\"/>\r\n     <use x=\"323.380859\" xlink:href=\"#DejaVuSans-72\"/>\r\n    </g>\r\n   </g>\r\n  </g>\r\n  <g id=\"axes_5\">\r\n   <g clip-path=\"url(#p9b0ad4a2db)\">\r\n    <image height=\"128\" id=\"image0c4e66767f\" transform=\"scale(1 -1)translate(0 -128)\" width=\"128\" x=\"164.752941\" xlink:href=\"data:image/png;base64,\r\niVBORw0KGgoAAAANSUhEUgAAAIAAAACACAYAAADDPmHLAAAH7ElEQVR4nO2dy05WSxCFC/F+Q0FF1ERF8D4y0RiDOiQMGfkYxpEjjVMfwKlPYGDqlGBEUaMGIcYYA14RFBTB++WMe9Uyf8vpzTmm1jerTtF7/546vVeqqrvrzOyXFWDjxo1u7OLFi4m9a9cu53Py5Mmac+/du9eNNTU1Jfa6deucz8ePHxN7//79zmd8fNyNff36NbGnpqacz48fPxL7w4cPzmd4eNiNIbdv33Zjly5dSuy+vj7n8+TJk5pz57CoyCzir0UBEBwFQHAUAMFZXGqipUuXujEUZitWrMiaq7u7O7EbGxtr/s3y5cvd2MTERGKvXbvW+bx9+9aNrVq1KrGZwPz+/XtiL1rk/19C0Xn16lXns2XLFjeGIpS9dym0AgRHARAcBUBwimkA9n0fHBxM7Pr6+qy58Hs+OjrqfPC7uHLlSueDyZlfv3zOa25uzo19+/Ytsevq6pwPJoJmZ2edz+rVqxO7ubnZ+bDfhu+0eHGx/0wOrQDBUQAERwEQHAVAcIqpi4aGBjf27t27xD58+LDz2bp1qxt78+ZNYjMRhokXlohC0fn+/Xvns379ejeGVUQUfGZeUGLyyMwndJhQxaqmmRevLMlVCq0AwVEABEcBEJxiGoB9J7Fg8urVK+eze/duNzY9PZ3YGzZscD6fP39O7JxiFEv6MFA7sN+GYz9//nQ++DuYBkKdYGb2+vXrxG5pafn9y/5LtAIERwEQHAVAcBQAwSkmAlmyYsmSJYn96NEj57Nnzx43hp0zrGsGE0GsdXv79u2JzYQaJqvM/HszUOAyUCiypNPIyIgbw3/L3CrqfNAKEBwFQHAUAMEppgFYVyzy/PlzN8a2hl25cuWP52aJoGfPniU20xKs0ISFHvYNRh82D+qLY8eOOZ/Hjx+7MdQAOXpjvmgFCI4CIDgKgOAoAIJTaVs4VuwY2DptxitktWAdOZiIYfMygZkjAvG9WaUR27lxy5uZ2fnz52s+/9OnT86nFFoBgqMACI4CIDgKgOBUt+nMfHszy2ixg5vwPAAmJjHz9+XLF+eDrepMqE5OTroxFH2siojgfkIzX/27du2a83n58qUbw2ok23dYCq0AwVEABEcBEJxiGoB9g/Gbz7pvWCKoq6srsfv7+50Pdvuwvf+oQZYtW1bzHRls7lrPMvPt7Ky9nR1Uie/J5i6FVoDgKACCowAIjgIgOMVEYE7ljyVi2J55TASxJEvO3jxMFuXs8TPziRjW7oXikYlJPPtg06ZNzien3Y39/lJoBQiOAiA4CoDgVKoB8Ewe1paNBzqbmQ0NDSX2mjVrnE9O1w7CDlzMOYSR6QvUDqwjCYtBrHX9wIEDbuzmzZs1n18KrQDBUQAERwEQHAVAcIqJQJYIwQQGO+wI9++Z+WoY21ePwogJJWwDZxVLVunDsZyOHHamAB54yc4COHLkiBvDq+TUESQqQwEQHAVAcCpNBKEGaGtrcz7Xr193YwcPHkzsu3fvOh9MxLCCCeoS9o4sgYRz5xxEnbN9i91QNjMz48ZaW1sT+969ezXnni9aAYKjAAiOAiA4CoDgFBOB7KDG9vb2xGYt4Cw5grdosLZoFJTs+jUUbyxZxA64xPZ1dnUszsXOB8AqJnvWjRs33Bhul7t8+bLzKYVWgOAoAIKjAAiOAiA4xUQgq1hhW/StW7ey/g7bsFkVD/+OCUwUamyenHYr1rqN2cKcdjO879iMnxS6Y8eOxNZJoaIyFADBUQAEp5gGYN9STIQ8fPjQ+bBKG57tw76v89kzz56F18QyP7Y1DDUA0wl4/Rtrb2ffd7xurkq0AgRHARAcBUBwFADBqfSgSEx8PH361PlgxdDMV+NYAgVbsnLa0tkhUTlXxLEEEs7N9v7j3OwsAiYMWZtYVWgFCI4CIDgKgOBUqgEQtg3sxIkTbgzboFnLNSZecvb5Mx/WKo6JH1awwuezQzAxocPawlmXUM55S6XQChAcBUBwFADBUQAEp1IRiKKHVeNYyzXeosHEW87+vZwzBHK6bdjzUSiycwZQzN25c8f5bN682Y0xsVwVWgGCowAIjgIgOJVqAPyWs+/d4OCgG8PEC9MJWGjJuRY255pYM/99Z9oBx1hRCXUJ2+ePHcBmvHOqKrQCBEcBEBwFQHAUAMGpVATimQG4VcyM74/Hm0VyxBsTaijmciqGueA7sW4fvA3lxYsXzod1KS0kWgGCowAIjgIgOAqA4FQqArFNKufqFTN/OjjL8mEVj534mXPqN3s+zs0qjSgwmQ+OsX2I7FwDJharQitAcBQAwVEABKdSDfDgwYPE7ujocD45HTHs+45JHbZ9a9u2bX88j5nXDnjzh5lv585pXWeVP9ZOzg7PrAqtAMFRAARHARAcBUBw6szM90RVBNvn39nZ6cawasgEFt5LzNq78Zq6nTt3Op+enh43dvz48cRm5xpgAom1raFQHBsbcz69vb1ubCHRChAcBUBwFADBWVANkEtzc3Ni79u3z/kcPXo0sdl2qsbGxsS+cOGC82EFotOnTyc2O/8HC1Z43auZ2cDAQGKzYtB/jVaA4CgAgqMACI4CIDgLKgLZqdtsb958OHXqlBs7e/ZsYuOdxGY8gXT//v3EPnPmjPNh7ex/I1oBgqMACI4CIDj/y0TQfMDrVs3Muru7E5sVdVgi6NChQ4l97ty5ms/P2b5WSu+URCtAcBQAwVEABEcBEJx/AA3g79L93iofAAAAAElFTkSuQmCC\" y=\"-175.711066\"/>\r\n   </g>\r\n   <g id=\"text_5\">\r\n    <!-- Shirt -->\r\n    <g transform=\"translate(214.608695 169.805184)scale(0.12 -0.12)\">\r\n     <use xlink:href=\"#DejaVuSans-53\"/>\r\n     <use x=\"63.476562\" xlink:href=\"#DejaVuSans-68\"/>\r\n     <use x=\"126.855469\" xlink:href=\"#DejaVuSans-69\"/>\r\n     <use x=\"154.638672\" xlink:href=\"#DejaVuSans-72\"/>\r\n     <use x=\"195.751953\" xlink:href=\"#DejaVuSans-74\"/>\r\n    </g>\r\n   </g>\r\n  </g>\r\n  <g id=\"axes_6\">\r\n   <g clip-path=\"url(#p5af7788502)\">\r\n    <image height=\"128\" id=\"image6606d0d712\" transform=\"scale(1 -1)translate(0 -128)\" width=\"128\" x=\"322.305882\" xlink:href=\"data:image/png;base64,\r\niVBORw0KGgoAAAANSUhEUgAAAIAAAACACAYAAADDPmHLAAAGV0lEQVR4nO2dO0teTRSFR43XaMRLFIMKKhEMmkJBI4ioYGUv+BtsYitYWyk2/gQrY20hgkWwSWxEYiPe8K7xfjfqV8/eO3nPd0Dfc1jr6fawPfMSVuYsZvbZk+Kce3YxJDs724trampUztLSUqhnj4+Pe3FbW5vKubu78+Lm5uaEz01JSVFjz8/J/edPTersJOlQAOBQAOBQAOCkuJiawIODAy9OS0tTOYWFhV48ODiocoaHh9WYNGabm5sq5927d17c29urcmZmZrw4NVX/f3t6elJjrwlXAHAoAHAoAHDeJPsHhGV7e9uL8/PzVY70Bbe3t6Hmenh4UGOZmZle3NHRoXKkB7A2gpINVwBwKABwKABwKABwYmsCpQmzDNafP3+8+NevX6Hmys3NVWPyNLC1tTXhcx4fH0PN/5JwBQCHAgCHAgAnFh4gKytLjb19+9aL5TvZOeeKioq8WG4e/Y2Li4uEOdfX1178/v37QM+OGlwBwKEAwKEAwKEAwImFCbQ2WWRFzs7OTsLn7O7uBppPmkBZgu6cc0dHR15cWloa6NlRgysAOBQAOBQAOLHwAF1dXWpMHqxY1bWyuvfs7CzQfBsbG15cV1encm5ubry4qqpK5cjNqqurq0DzvyZcAcChAMChAMChAMCJhQksKytTY/I0zvo0TJouWSH0N+bm5rzYMniyxHxtbU3lFBQU/PP3RAGuAOBQAOBQAOBQAODEwgTm5eWpMWkCMzIyVM76+nqo+eQ3fX19fSrn+PjYi6Xhc05/r7i1tRXq97wkXAHAoQDAoQDAia0HkFU7xcXFKmdxcTHUfCsrK15cWVmpcn78+OHF8nTQOV2WHkW4AoBDAYBDAYBDAYATSRMoGypWVFSonPPzcy+2NoK+f/8ean55smiVm8n5rP4E9/f3oeZ/TbgCgEMBgEMBgBNJD1BdXe3FQQ6DLGRD6aBID2L19pHvfOt9L31KFOEKAA4FAA4FAA4FAE4kTaAsw05PT0/4N9ZmTX19vRdPTU2F+j2WCZQl5tZmFTeCSOShAMChAMCJpAf48OGDF8sKXOf0O9iqyLFu6QqCbPpoeQA5Zr3vP3786MWy0igKcAUAhwIAhwIAhwIAJ5ImUBo6q9pHmkDrdLC5uTnU/A0NDV4c5HrXy8tLNdbZ2enF09PToX7PS8IVABwKABwKABwKAJxImsCfP3968Zs3+mfKXT7rXuDu7m4vLiwsVDnWLuPnz5+9WHYctcZOTk5UTmNjoxqLGlwBwKEAwKEAwImkB5BdvWXXbeeCdQuXG0oDAwMqZ2hoSI21t7d7sXUlnfQgVgl4bW3tP//GuWCbTC8JVwBwKABwKABwKABwUpxzepcjyUizdHh4qHKWlpYSPkc2apTfHDqnr59zTl9BZ90lLLuDPzw8qJyWlhYv/vLli8pZXV1VY68JVwBwKABwKABwIrkRJDdHrIMWeZ2rtVkjN4KsG0PGxsbUWGZmphdbmzxyc8rKycrK8uKamhqVQw9AkgoFAA4FAA4FAE4kTaDEumlDfj/4+/dvlSON2ubmpsrp7+9XY2G+67d6GMgTy5ycnP/93JeGKwA4FAA4FAA4sfAA1kGL3GSxNnnk31mVRbL6yDldhWx9miafFeTzNSsn2XAFAIcCAIcCAIcCACcWJjBIkyhr8+b09NSLP336pHKs5lLypNFCmlDLqMqeBU1NTSpncnIy4VwvCVcAcCgAcCgAcCgAcGJhAr99+6bGent7vXh5eVnlyN0662o3q+RbXhtn7TLKMfk3zmmDKbugRwGuAOBQAOBQAODEwgPMz88nzCkuLlZjV1dXXmz1EbJO6GT/H8sDyAogq1GlrAiK4jVyXAHAoQDAoQDAoQDAiYUJ3N7eVmMLCwteXFBQoHLkN35BmzTt7+97sbWBJPsKWKeRsrRMmtIowBUAHAoAHAoAnEh6APnOtZo1T0xMePHXr19VjjzoscrCrb4CcuNHegnntC+xPIjsayB9SxTgCgAOBQAOBQAOBQBObE3g7OysF4+OjqqckpISL7a+AywvL1djspmTdYooy8JHRkZUTk9PjxcfHByonGTDFQAcCgAcCgCcSHoA650vWVxc9GKrcnhvb8+L5adiztl9e+SmjlURJBtPWwdGsmooSGXTa8MVABwKABwKABwKAJz/AEYs8t+ZRki2AAAAAElFTkSuQmCC\" y=\"-175.711066\"/>\r\n   </g>\r\n   <g id=\"text_6\">\r\n    <!-- Trouser -->\r\n    <g transform=\"translate(364.389761 169.805184)scale(0.12 -0.12)\">\r\n     <use xlink:href=\"#DejaVuSans-54\"/>\r\n     <use x=\"46.333984\" xlink:href=\"#DejaVuSans-72\"/>\r\n     <use x=\"85.197266\" xlink:href=\"#DejaVuSans-6f\"/>\r\n     <use x=\"146.378906\" xlink:href=\"#DejaVuSans-75\"/>\r\n     <use x=\"209.757812\" xlink:href=\"#DejaVuSans-73\"/>\r\n     <use x=\"261.857422\" xlink:href=\"#DejaVuSans-65\"/>\r\n     <use x=\"323.380859\" xlink:href=\"#DejaVuSans-72\"/>\r\n    </g>\r\n   </g>\r\n  </g>\r\n  <g id=\"axes_7\">\r\n   <g clip-path=\"url(#pcec14822b8)\">\r\n    <image height=\"128\" id=\"image92c7c56c07\" transform=\"scale(1 -1)translate(0 -128)\" width=\"128\" x=\"7.2\" xlink:href=\"data:image/png;base64,\r\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\" y=\"-329.198125\"/>\r\n   </g>\r\n   <g id=\"text_7\">\r\n    <!-- Ankle Boot -->\r\n    <g transform=\"translate(38.694816 323.292243)scale(0.12 -0.12)\">\r\n     <defs>\r\n      <path d=\"M 2188 4044 \r\nL 1331 1722 \r\nL 3047 1722 \r\nL 2188 4044 \r\nz\r\nM 1831 4666 \r\nL 2547 4666 \r\nL 4325 0 \r\nL 3669 0 \r\nL 3244 1197 \r\nL 1141 1197 \r\nL 716 0 \r\nL 50 0 \r\nL 1831 4666 \r\nz\r\n\" id=\"DejaVuSans-41\" transform=\"scale(0.015625)\"/>\r\n      <path d=\"M 603 4863 \r\nL 1178 4863 \r\nL 1178 0 \r\nL 603 0 \r\nL 603 4863 \r\nz\r\n\" id=\"DejaVuSans-6c\" transform=\"scale(0.015625)\"/>\r\n      <path id=\"DejaVuSans-20\" transform=\"scale(0.015625)\"/>\r\n     </defs>\r\n     <use xlink:href=\"#DejaVuSans-41\"/>\r\n     <use x=\"68.408203\" xlink:href=\"#DejaVuSans-6e\"/>\r\n     <use x=\"131.787109\" xlink:href=\"#DejaVuSans-6b\"/>\r\n     <use x=\"189.697266\" xlink:href=\"#DejaVuSans-6c\"/>\r\n     <use x=\"217.480469\" xlink:href=\"#DejaVuSans-65\"/>\r\n     <use x=\"279.003906\" xlink:href=\"#DejaVuSans-20\"/>\r\n     <use x=\"310.791016\" xlink:href=\"#DejaVuSans-42\"/>\r\n     <use x=\"379.394531\" xlink:href=\"#DejaVuSans-6f\"/>\r\n     <use x=\"440.576172\" xlink:href=\"#DejaVuSans-6f\"/>\r\n     <use x=\"501.757812\" xlink:href=\"#DejaVuSans-74\"/>\r\n    </g>\r\n   </g>\r\n  </g>\r\n  <g id=\"axes_8\">\r\n   <g clip-path=\"url(#pd68855164f)\">\r\n    <image height=\"128\" id=\"image179d78aa9f\" transform=\"scale(1 -1)translate(0 -128)\" width=\"128\" x=\"164.752941\" xlink:href=\"data:image/png;base64,\r\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\" y=\"-329.198125\"/>\r\n   </g>\r\n   <g id=\"text_8\">\r\n    <!-- Shirt -->\r\n    <g transform=\"translate(214.608695 323.292243)scale(0.12 -0.12)\">\r\n     <use xlink:href=\"#DejaVuSans-53\"/>\r\n     <use x=\"63.476562\" xlink:href=\"#DejaVuSans-68\"/>\r\n     <use x=\"126.855469\" xlink:href=\"#DejaVuSans-69\"/>\r\n     <use x=\"154.638672\" xlink:href=\"#DejaVuSans-72\"/>\r\n     <use x=\"195.751953\" xlink:href=\"#DejaVuSans-74\"/>\r\n    </g>\r\n   </g>\r\n  </g>\r\n  <g id=\"axes_9\">\r\n   <g clip-path=\"url(#p7737098563)\">\r\n    <image height=\"128\" id=\"imagee52d7ad0d7\" transform=\"scale(1 -1)translate(0 -128)\" width=\"128\" x=\"322.305882\" xlink:href=\"data:image/png;base64,\r\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\" y=\"-329.198125\"/>\r\n   </g>\r\n   <g id=\"text_9\">\r\n    <!-- Ankle Boot -->\r\n    <g transform=\"translate(353.800699 323.292243)scale(0.12 -0.12)\">\r\n     <use xlink:href=\"#DejaVuSans-41\"/>\r\n     <use x=\"68.408203\" xlink:href=\"#DejaVuSans-6e\"/>\r\n     <use x=\"131.787109\" xlink:href=\"#DejaVuSans-6b\"/>\r\n     <use x=\"189.697266\" xlink:href=\"#DejaVuSans-6c\"/>\r\n     <use x=\"217.480469\" xlink:href=\"#DejaVuSans-65\"/>\r\n     <use x=\"279.003906\" xlink:href=\"#DejaVuSans-20\"/>\r\n     <use x=\"310.791016\" xlink:href=\"#DejaVuSans-42\"/>\r\n     <use x=\"379.394531\" xlink:href=\"#DejaVuSans-6f\"/>\r\n     <use x=\"440.576172\" xlink:href=\"#DejaVuSans-6f\"/>\r\n     <use x=\"501.757812\" xlink:href=\"#DejaVuSans-74\"/>\r\n    </g>\r\n   </g>\r\n  </g>\r\n </g>\r\n <defs>\r\n  <clipPath id=\"pd7d5d947c8\">\r\n   <rect height=\"127.905882\" width=\"127.905882\" x=\"7.2\" y=\"22.318125\"/>\r\n  </clipPath>\r\n  <clipPath id=\"p080c7074f9\">\r\n   <rect height=\"127.905882\" width=\"127.905882\" x=\"164.752941\" y=\"22.318125\"/>\r\n  </clipPath>\r\n  <clipPath id=\"p84271770cd\">\r\n   <rect height=\"127.905882\" width=\"127.905882\" x=\"322.305882\" y=\"22.318125\"/>\r\n  </clipPath>\r\n  <clipPath id=\"p552f94b934\">\r\n   <rect height=\"127.905882\" width=\"127.905882\" x=\"7.2\" y=\"175.805184\"/>\r\n  </clipPath>\r\n  <clipPath id=\"p9b0ad4a2db\">\r\n   <rect height=\"127.905882\" width=\"127.905882\" x=\"164.752941\" y=\"175.805184\"/>\r\n  </clipPath>\r\n  <clipPath id=\"p5af7788502\">\r\n   <rect height=\"127.905882\" width=\"127.905882\" x=\"322.305882\" y=\"175.805184\"/>\r\n  </clipPath>\r\n  <clipPath id=\"pcec14822b8\">\r\n   <rect height=\"127.905882\" width=\"127.905882\" x=\"7.2\" y=\"329.292243\"/>\r\n  </clipPath>\r\n  <clipPath id=\"pd68855164f\">\r\n   <rect height=\"127.905882\" width=\"127.905882\" x=\"164.752941\" y=\"329.292243\"/>\r\n  </clipPath>\r\n  <clipPath id=\"p7737098563\">\r\n   <rect height=\"127.905882\" width=\"127.905882\" x=\"322.305882\" y=\"329.292243\"/>\r\n  </clipPath>\r\n </defs>\r\n</svg>\r\n",
      "image/png": "[encoded data removed]"
     },
     "metadata": {
      "needs_background": "light"
     }
    }
   ],
   "source": [
    "labels_map = {\n",
    "    0: \"T-Shirt\",\n",
    "    1: \"Trouser\",\n",
    "    2: \"Pullover\",\n",
    "    3: \"Dress\",\n",
    "    4: \"Coat\",\n",
    "    5: \"Sandal\",\n",
    "    6: \"Shirt\",\n",
    "    7: \"Sneaker\",\n",
    "    8: \"Bag\",\n",
    "    9: \"Ankle Boot\",\n",
    "}\n",
    "figure = plt.figure(figsize=(8, 8))\n",
    "cols, rows = 3, 3\n",
    "for i in range(1, cols * rows + 1):\n",
    "    sample_idx = torch.randint(len(training_data), size=(1,)).item()\n",
    "    img, label = training_data[sample_idx]\n",
    "    figure.add_subplot(rows, cols, i)\n",
    "    plt.title(labels_map[label])\n",
    "    plt.axis(\"off\")\n",
    "    plt.imshow(img.squeeze(), cmap=\"gray\")\n",
    "plt.show()"
   ]
  },
  {
   "cell_type": "code",
   "execution_count": 14,
   "metadata": {},
   "outputs": [
    {
     "output_type": "stream",
     "name": "stdout",
     "text": [
      "Using cuda device\n",
      "NeuralNetwork(\n",
      "  (flatten): Flatten(start_dim=1, end_dim=-1)\n",
      "  (main): Sequential(\n",
      "    (0): Linear(in_features=784, out_features=512, bias=True)\n",
      "    (1): ReLU()\n",
      "    (2): Linear(in_features=512, out_features=512, bias=True)\n",
      "    (3): ReLU()\n",
      "    (4): Linear(in_features=512, out_features=10, bias=True)\n",
      "    (5): ReLU()\n",
      "  )\n",
      ")\n"
     ]
    }
   ],
   "source": [
    "device = \"cuda\" if torch.cuda.is_available() else \"cpu\"\n",
    "print(\"Using {} device\".format(device))\n",
    "\n",
    "class NeuralNetwork(nn.Module):\n",
    "    def __init__(self):\n",
    "        super(NeuralNetwork, self).__init__()\n",
    "        self.flatten = nn.Flatten() # 1차원\n",
    "        self.main = nn.Sequential(\n",
    "            nn.Linear(28*28, 512),\n",
    "            nn.ReLU(),\n",
    "            nn.Linear(512, 512),\n",
    "            nn.ReLU(),\n",
    "            nn.Linear(512,10),\n",
    "            nn.ReLU()\n",
    "        )\n",
    "    def forward(self, x):\n",
    "        x = self.flatten(x)\n",
    "        logits = self.main(x)\n",
    "        return logits\n",
    "\n",
    "model = NeuralNetwork().to(device)\n",
    "print(model)"
   ]
  },
  {
   "cell_type": "code",
   "execution_count": 16,
   "metadata": {},
   "outputs": [],
   "source": [
    "loss_fn = nn.CrossEntropyLoss()\n",
    "optimizer = torch.optim.SGD(model.parameters(), lr=1e-3)\n",
    "from tqdm import tqdm"
   ]
  },
  {
   "cell_type": "code",
   "execution_count": 22,
   "metadata": {},
   "outputs": [],
   "source": [
    "def train(dataloader, model, loss_fn, optimizer):\n",
    "    size = len(dataloader.dataset)\n",
    "    for batch, (X,y) in enumerate(dataloader):\n",
    "        X, y = X.to(device), y.to(device)\n",
    "        \n",
    "        # Compute prediction error\n",
    "        pred = model(X)\n",
    "        loss = loss_fn(pred,y)\n",
    "\n",
    "        #Backpropagation\n",
    "        optimizer.zero_grad()\n",
    "        loss.backward()\n",
    "        optimizer.step()\n",
    "\n",
    "        if batch % 100 == 0:\n",
    "            loss, current = loss.item(), batch *len(X)\n",
    "            print(f\"loss: {loss:>7f}   [{current:>5d}/{size:>5d}]\")"
   ]
  },
  {
   "cell_type": "code",
   "execution_count": 20,
   "metadata": {},
   "outputs": [],
   "source": [
    "def test(dataloader, model):\n",
    "    size = len(dataloader.dataset)\n",
    "    model.eval()\n",
    "    test_loss, correct = 0, 0\n",
    "    with torch.no_grad():\n",
    "        for X, y in dataloader:\n",
    "            X, y = X.to(device), y.to(device)\n",
    "            pred = model(X)\n",
    "            test_loss += loss_fn(pred, y).item()\n",
    "            correct += (pred.argmax(1) == y).type(torch.float).sum().item()\n",
    "    test_loss /= size\n",
    "    correct /= size\n",
    "    print(f\"Test Error: \\n Accuracy: {(100*correct):>0.1f}%, Avg loss: {test_loss:>8f} \\n\")"
   ]
  },
  {
   "cell_type": "code",
   "execution_count": 23,
   "metadata": {},
   "outputs": [
    {
     "output_type": "stream",
     "name": "stdout",
     "text": [
      "Epoch 1\n",
      "-------------------------------\n",
      "loss: 1.535316   [    0/60000]\n",
      "loss: 1.686954   [ 6400/60000]\n",
      "loss: 1.429207   [12800/60000]\n",
      "loss: 1.540702   [19200/60000]\n",
      "loss: 1.529860   [25600/60000]\n",
      "loss: 1.376941   [32000/60000]\n",
      "loss: 1.470082   [38400/60000]\n",
      "loss: 1.377737   [44800/60000]\n",
      "loss: 1.435676   [51200/60000]\n",
      "loss: 1.283492   [57600/60000]\n",
      "Test Error: \n",
      " Accuracy: 50.8%, Avg loss: 0.022903 \n",
      "\n",
      "Epoch 2\n",
      "-------------------------------\n",
      "loss: 1.439096   [    0/60000]\n",
      "loss: 1.610987   [ 6400/60000]\n",
      "loss: 1.333321   [12800/60000]\n",
      "loss: 1.464269   [19200/60000]\n",
      "loss: 1.450096   [25600/60000]\n",
      "loss: 1.302566   [32000/60000]\n",
      "loss: 1.396535   [38400/60000]\n",
      "loss: 1.296499   [44800/60000]\n",
      "loss: 1.317374   [51200/60000]\n",
      "loss: 1.195800   [57600/60000]\n",
      "Test Error: \n",
      " Accuracy: 52.5%, Avg loss: 0.020943 \n",
      "\n",
      "Epoch 3\n",
      "-------------------------------\n",
      "loss: 1.277341   [    0/60000]\n",
      "loss: 1.464576   [ 6400/60000]\n",
      "loss: 1.206597   [12800/60000]\n",
      "loss: 1.410275   [19200/60000]\n",
      "loss: 1.236105   [25600/60000]\n",
      "loss: 1.153118   [32000/60000]\n",
      "loss: 1.249051   [38400/60000]\n",
      "loss: 1.102397   [44800/60000]\n",
      "loss: 1.161961   [51200/60000]\n",
      "loss: 1.107540   [57600/60000]\n",
      "Test Error: \n",
      " Accuracy: 58.2%, Avg loss: 0.019359 \n",
      "\n",
      "Epoch 4\n",
      "-------------------------------\n",
      "loss: 1.138274   [    0/60000]\n",
      "loss: 1.360396   [ 6400/60000]\n",
      "loss: 1.105964   [12800/60000]\n",
      "loss: 1.346984   [19200/60000]\n",
      "loss: 1.145043   [25600/60000]\n",
      "loss: 1.077101   [32000/60000]\n",
      "loss: 1.179838   [38400/60000]\n",
      "loss: 1.020541   [44800/60000]\n",
      "loss: 1.085541   [51200/60000]\n",
      "loss: 1.048864   [57600/60000]\n",
      "Test Error: \n",
      " Accuracy: 59.3%, Avg loss: 0.018279 \n",
      "\n",
      "Epoch 5\n",
      "-------------------------------\n",
      "loss: 1.056519   [    0/60000]\n",
      "loss: 1.286870   [ 6400/60000]\n",
      "loss: 1.028406   [12800/60000]\n",
      "loss: 1.289979   [19200/60000]\n",
      "loss: 1.082855   [25600/60000]\n",
      "loss: 1.021401   [32000/60000]\n",
      "loss: 1.126298   [38400/60000]\n",
      "loss: 0.962229   [44800/60000]\n",
      "loss: 1.028512   [51200/60000]\n",
      "loss: 1.003165   [57600/60000]\n",
      "Test Error: \n",
      " Accuracy: 60.4%, Avg loss: 0.017402 \n",
      "\n",
      "Done!\n"
     ]
    }
   ],
   "source": [
    "epochs = 5\n",
    "for t in range(epochs):\n",
    "    print(f\"Epoch {t+1}\\n-------------------------------\")\n",
    "    train(train_dataloader, model, loss_fn, optimizer)\n",
    "    test(test_dataloader, model)\n",
    "print(\"Done!\")"
   ]
  },
  {
   "cell_type": "code",
   "execution_count": 24,
   "metadata": {},
   "outputs": [
    {
     "output_type": "stream",
     "name": "stdout",
     "text": [
      "Saved Pytorch Model State to model.pth\n"
     ]
    }
   ],
   "source": [
    "torch.save(model.state_dict(), \"model.pth\")\n",
    "print(\"Saved Pytorch Model State to model.pth\")"
   ]
  },
  {
   "cell_type": "code",
   "execution_count": 25,
   "metadata": {},
   "outputs": [
    {
     "output_type": "execute_result",
     "data": {
      "text/plain": [
       "<All keys matched successfully>"
      ]
     },
     "metadata": {},
     "execution_count": 25
    }
   ],
   "source": [
    "model = NeuralNetwork()\n",
    "model.load_state_dict(torch.load(\"model.pth\"))"
   ]
  },
  {
   "cell_type": "code",
   "execution_count": 32,
   "metadata": {},
   "outputs": [
    {
     "output_type": "stream",
     "name": "stdout",
     "text": [
      "Predicted: \"Ankle boot\", Actual: \"Ankle boot\"\n"
     ]
    }
   ],
   "source": [
    "classes = [\n",
    "    \"T-shirt/top\",\n",
    "    \"Trouser\",\n",
    "    \"Pullover\",\n",
    "    \"Dress\",\n",
    "    \"Coat\",\n",
    "    \"Sandal\",\n",
    "    \"Shirt\",\n",
    "    \"Sneaker\",\n",
    "    \"Bag\",\n",
    "    \"Ankle boot\",\n",
    "]\n",
    "\n",
    "model.eval()\n",
    "x, y = test_data[0][0], test_data[0][1]\n",
    "with torch.no_grad():\n",
    "    pred = model(x)\n",
    "    predicted, actual = classes[pred[0].argmax(0)], classes[y]\n",
    "    print(f'Predicted: \"{predicted}\", Actual: \"{actual}\"')"
   ]
  },
  {
   "cell_type": "code",
   "execution_count": null,
   "metadata": {},
   "outputs": [],
   "source": []
  },
  {
   "cell_type": "code",
   "execution_count": null,
   "metadata": {},
   "outputs": [],
   "source": []
  },
  {
   "cell_type": "code",
   "execution_count": null,
   "metadata": {},
   "outputs": [],
   "source": []
  }
 ]
}