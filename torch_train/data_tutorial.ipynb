{
 "metadata": {
  "language_info": {
   "codemirror_mode": {
    "name": "ipython",
    "version": 3
   },
   "file_extension": ".py",
   "mimetype": "text/x-python",
   "name": "python",
   "nbconvert_exporter": "python",
   "pygments_lexer": "ipython3",
   "version": "3.8.8-final"
  },
  "orig_nbformat": 2,
  "kernelspec": {
   "name": "python388jvsc74a57bd0012cd2866f3402d1379f784d41cfc922dd07559f496dbd8d86ed0d3672ff3ab5",
   "display_name": "Python 3.8.8 64-bit ('Torch': conda)"
  }
 },
 "nbformat": 4,
 "nbformat_minor": 2,
 "cells": [
  {
   "source": [
    "# Custom Dataset"
   ],
   "cell_type": "markdown",
   "metadata": {}
  },
  {
   "source": [
    "```\n",
    "  class CustomDataset(torch.utils.data.Dataset): \n",
    "    def __init__(self):\n",
    "    데이터셋의 전처리를 해주는 부분\n",
    "\n",
    "    def __len__(self):\n",
    "    데이터셋의 길이. 즉, 총 샘플의 수를 적어주는 부분\n",
    "\n",
    "    def __getitem__(self, idx):\n",
    "    데이터셋에서 특정 1개의 샘플을 가져오는 함수\n",
    "```"
   ],
   "cell_type": "markdown",
   "metadata": {}
  },
  {
   "cell_type": "code",
   "execution_count": 10,
   "metadata": {},
   "outputs": [],
   "source": [
    "import os\n",
    "import pandas as pd\n",
    "from torch.utils.data import Dataset\n",
    "from torch.utils.data import DataLoader\n",
    "from torchvision.io import read_image\n",
    "\n",
    "class CustomImageDataset(Dataset):\n",
    "    def __init__(self, annotations_file, img_dir, transform=None, target_transform=None):\n",
    "        self.img_labels = pd.read_csv(annotations_file)\n",
    "        self.img_dir = img_dir \n",
    "        self.transform = transform\n",
    "        self.target_transform = target_transform\n",
    "    def __len__(self):\n",
    "        return len(self.img_labels)\n",
    "    def __getitem__(self, idx):\n",
    "        img_path = os.path.join(self.img_dir, self.img_labels.iloc[idx, 0])\n",
    "        image = read_image(img_path)\n",
    "        label = self.img_labels.iloc[idx, 1]\n",
    "        if self.transform:\n",
    "            image = self.transform(image)\n",
    "        if self.target_transform:\n",
    "            label = self.target_transform(label)\n",
    "        sample = {\"image\" : image, \"label\": label}\n",
    "        return sample"
   ]
  },
  {
   "cell_type": "code",
   "execution_count": 11,
   "metadata": {},
   "outputs": [],
   "source": [
    "import torch\n",
    "import torch.nn.functional as fn\n",
    "class CustomDataset(Dataset):\n",
    "    def __init__(self):\n",
    "        self.x_data = [[73, 80, 75],\n",
    "                    [93, 88, 93],\n",
    "                    [89, 91, 90],\n",
    "                    [96, 98, 100],\n",
    "                    [73, 66, 70]]\n",
    "        self.y_data = [[152], [185], [180], [196], [142]]\n",
    "    def __len__(self):\n",
    "        return len(self.x_data)\n",
    "    def __getitem__(self, idx):\n",
    "        x = torch.FloatTensor(self.x_data[idx])\n",
    "        y = torch.FloatTensor(self.y_data[idx])\n",
    "        return x,y"
   ]
  },
  {
   "cell_type": "code",
   "execution_count": 14,
   "metadata": {},
   "outputs": [],
   "source": [
    "dataset = CustomDataset()\n",
    "dataloader = DataLoader(dataset, batch_size=2, shuffle =True)"
   ]
  },
  {
   "cell_type": "code",
   "execution_count": 15,
   "metadata": {},
   "outputs": [],
   "source": [
    "model = torch.nn.Linear(3,1)\n",
    "optimizer = torch.optim.SGD(model.parameters(), lr = 1e-5)"
   ]
  },
  {
   "cell_type": "code",
   "execution_count": 16,
   "metadata": {},
   "outputs": [
    {
     "output_type": "stream",
     "name": "stdout",
     "text": [
      "Epoch    0/20 Batch 1/3 Cost : 5765.828125\nEpoch    0/20 Batch 2/3 Cost : 4290.398438\nEpoch    0/20 Batch 3/3 Cost : 848.614990\nEpoch    1/20 Batch 1/3 Cost : 180.873672\nEpoch    1/20 Batch 2/3 Cost : 84.239883\nEpoch    1/20 Batch 3/3 Cost : 30.212414\nEpoch    2/20 Batch 1/3 Cost : 4.488306\nEpoch    2/20 Batch 2/3 Cost : 0.675307\nEpoch    2/20 Batch 3/3 Cost : 5.896562\nEpoch    3/20 Batch 1/3 Cost : 1.317400\nEpoch    3/20 Batch 2/3 Cost : 0.112673\nEpoch    3/20 Batch 3/3 Cost : 1.020151\nEpoch    4/20 Batch 1/3 Cost : 0.145985\nEpoch    4/20 Batch 2/3 Cost : 0.054036\nEpoch    4/20 Batch 3/3 Cost : 3.633440\nEpoch    5/20 Batch 1/3 Cost : 0.825133\nEpoch    5/20 Batch 2/3 Cost : 1.662374\nEpoch    5/20 Batch 3/3 Cost : 0.021213\nEpoch    6/20 Batch 1/3 Cost : 0.006478\nEpoch    6/20 Batch 2/3 Cost : 1.446777\nEpoch    6/20 Batch 3/3 Cost : 1.183705\nEpoch    7/20 Batch 1/3 Cost : 0.108374\nEpoch    7/20 Batch 2/3 Cost : 2.107424\nEpoch    7/20 Batch 3/3 Cost : 0.028723\nEpoch    8/20 Batch 1/3 Cost : 0.313001\nEpoch    8/20 Batch 2/3 Cost : 1.775650\nEpoch    8/20 Batch 3/3 Cost : 0.194853\nEpoch    9/20 Batch 1/3 Cost : 0.026813\nEpoch    9/20 Batch 2/3 Cost : 0.249307\nEpoch    9/20 Batch 3/3 Cost : 3.528110\nEpoch   10/20 Batch 1/3 Cost : 0.486825\nEpoch   10/20 Batch 2/3 Cost : 0.493510\nEpoch   10/20 Batch 3/3 Cost : 3.046126\nEpoch   11/20 Batch 1/3 Cost : 0.638910\nEpoch   11/20 Batch 2/3 Cost : 1.626960\nEpoch   11/20 Batch 3/3 Cost : 0.015492\nEpoch   12/20 Batch 1/3 Cost : 0.626506\nEpoch   12/20 Batch 2/3 Cost : 1.641961\nEpoch   12/20 Batch 3/3 Cost : 0.008760\nEpoch   13/20 Batch 1/3 Cost : 0.040704\nEpoch   13/20 Batch 2/3 Cost : 0.469830\nEpoch   13/20 Batch 3/3 Cost : 3.428849\nEpoch   14/20 Batch 1/3 Cost : 1.009756\nEpoch   14/20 Batch 2/3 Cost : 0.082215\nEpoch   14/20 Batch 3/3 Cost : 2.842972\nEpoch   15/20 Batch 1/3 Cost : 1.023677\nEpoch   15/20 Batch 2/3 Cost : 1.442415\nEpoch   15/20 Batch 3/3 Cost : 0.000268\nEpoch   16/20 Batch 1/3 Cost : 1.280815\nEpoch   16/20 Batch 2/3 Cost : 0.734174\nEpoch   16/20 Batch 3/3 Cost : 0.063181\nEpoch   17/20 Batch 1/3 Cost : 0.226286\nEpoch   17/20 Batch 2/3 Cost : 1.811261\nEpoch   17/20 Batch 3/3 Cost : 0.000165\nEpoch   18/20 Batch 1/3 Cost : 0.482249\nEpoch   18/20 Batch 2/3 Cost : 0.037583\nEpoch   18/20 Batch 3/3 Cost : 3.168939\nEpoch   19/20 Batch 1/3 Cost : 1.024618\nEpoch   19/20 Batch 2/3 Cost : 1.163030\nEpoch   19/20 Batch 3/3 Cost : 0.064012\nEpoch   20/20 Batch 1/3 Cost : 1.338279\nEpoch   20/20 Batch 2/3 Cost : 0.841529\nEpoch   20/20 Batch 3/3 Cost : 0.027948\n"
     ]
    }
   ],
   "source": [
    "epochs = 20\n",
    "for epoch in range(epochs +1):\n",
    "    for batch_idx, samples in enumerate(dataloader):\n",
    "        x_train, y_train = samples\n",
    "        prediction = model(x_train)\n",
    "        cost = fn.mse_loss(prediction,y_train)\n",
    "\n",
    "        optimizer.zero_grad()\n",
    "        cost.backward()\n",
    "        optimizer.step()\n",
    "\n",
    "        print('Epoch {:4d}/{} Batch {}/{} Cost : {:.6f}'.format(epoch, epochs, batch_idx+1,len(dataloader),cost.item()))"
   ]
  },
  {
   "cell_type": "code",
   "execution_count": 18,
   "metadata": {},
   "outputs": [
    {
     "output_type": "stream",
     "name": "stdout",
     "text": [
      "tensor([[150.2986]], grad_fn=<AddmmBackward>)\n"
     ]
    }
   ],
   "source": [
    "new_var = torch.FloatTensor([[73,80,75]])\n",
    "pred_y = model(new_var)\n",
    "print(pred_y)"
   ]
  },
  {
   "cell_type": "code",
   "execution_count": null,
   "metadata": {},
   "outputs": [],
   "source": []
  }
 ]
}